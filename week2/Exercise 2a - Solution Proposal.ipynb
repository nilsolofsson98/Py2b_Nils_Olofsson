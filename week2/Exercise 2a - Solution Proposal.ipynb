{
 "cells": [
  {
   "cell_type": "markdown",
   "id": "a9f40d67",
   "metadata": {},
   "source": [
    "## Solution Proposal"
   ]
  },
  {
   "cell_type": "code",
   "execution_count": 8,
   "id": "f4e8a474",
   "metadata": {},
   "outputs": [],
   "source": [
    "import numpy as np"
   ]
  },
  {
   "cell_type": "code",
   "execution_count": 9,
   "id": "f2425005",
   "metadata": {},
   "outputs": [
    {
     "data": {
      "text/plain": [
       "[4, 5, 6]"
      ]
     },
     "execution_count": 9,
     "metadata": {},
     "output_type": "execute_result"
    }
   ],
   "source": [
    "#Q1 Answer:\n",
    "arr = [1, 2, 3, 4, 5 ,6, 7 ,8, 9]\n",
    "\n",
    "arr[3:6]"
   ]
  },
  {
   "cell_type": "code",
   "execution_count": 10,
   "id": "3a48600a",
   "metadata": {},
   "outputs": [
    {
     "data": {
      "text/plain": [
       "400"
      ]
     },
     "execution_count": 10,
     "metadata": {},
     "output_type": "execute_result"
    }
   ],
   "source": [
    "#Q2 Answer:\n",
    "sum_array = np.array([[10, 15, 20, 25, 30], [40, 45, 50, 55, 60], [70, 75, 80, 85, 90], [100, 105, 110, 115, 120]])\n",
    "\n",
    "sum_array.sum(axis=1)[2]"
   ]
  },
  {
   "cell_type": "code",
   "execution_count": 29,
   "id": "e826b183",
   "metadata": {},
   "outputs": [
    {
     "name": "stdout",
     "output_type": "stream",
     "text": [
      "[[1 1 1 1 1]\n",
      " [1 0 0 0 1]\n",
      " [1 0 9 0 1]\n",
      " [1 0 0 0 1]\n",
      " [1 1 1 1 1]]\n"
     ]
    }
   ],
   "source": [
    "#Q3 Answer: \n",
    "a = np.ones((5, 5), dtype=np.int16)\n",
    "\n",
    "b = np.zeros((3, 3), dtype=np.int16)\n",
    "b[1, 1] = 9\n",
    "\n",
    "a[1:4, 1:4] = b\n",
    "print(a)"
   ]
  },
  {
   "cell_type": "code",
   "execution_count": 27,
   "id": "b56b3116",
   "metadata": {},
   "outputs": [
    {
     "name": "stdout",
     "output_type": "stream",
     "text": [
      "[[3 1 6 5 7 8 4 9 2]\n",
      " [5 2 9 1 3 4 7 6 8]\n",
      " [4 8 7 6 2 9 5 3 1]\n",
      " [2 6 3 4 1 5 9 8 7]\n",
      " [9 7 4 8 6 3 1 2 5]\n",
      " [8 5 1 7 9 2 6 4 3]\n",
      " [1 3 8 9 4 7 2 5 6]\n",
      " [6 9 2 3 5 1 8 7 4]\n",
      " [7 4 5 2 8 6 3 1 9]]\n"
     ]
    }
   ],
   "source": [
    "#Q4 Answer \n",
    "unfinished_sudoku = np.array([[3, 1, 6, 5, 7, 8, 4, 9, 2], \n",
    "[5, 2, 9, 1, 3, 4, 7, 6, 8], \n",
    "[4, 8, 7, 6, 2, 9, 5, 3, 1], \n",
    "[2, 6, 3, 4, 1, 5, 9, 8, 7], \n",
    "[8, 5, 1, 7, 9, 2, 6, 4, 3], \n",
    "[1, 3, 8, 9, 4, 7, 2, 5, 6], \n",
    "[6, 9, 2, 3, 5, 1, 8, 7, 4],\n",
    "[7, 4, 5, 2, 8, 6, 3, 1, 9]])\n",
    "\n",
    "missing_row = [9, 7, 4, 8, 6, 3, 1, 2, 5]\n",
    "\n",
    "row = 4\n",
    "print(np.insert(unfinished_sudoku, row, missing_row, axis=0))"
   ]
  },
  {
   "cell_type": "code",
   "execution_count": 31,
   "id": "a82ee71a",
   "metadata": {},
   "outputs": [
    {
     "name": "stdout",
     "output_type": "stream",
     "text": [
      "[ 1  2  6  7 23 34 46 84 99]\n"
     ]
    }
   ],
   "source": [
    "#Q5 Answer\n",
    "sort_arr = np.array([1, 6, 34, 7, 2, 99, 46, 84, 23])\n",
    "\n",
    "print(np.sort(sort_arr))"
   ]
  },
  {
   "cell_type": "code",
   "execution_count": 14,
   "id": "e688becf",
   "metadata": {},
   "outputs": [
    {
     "data": {
      "text/plain": [
       "(4, 50)"
      ]
     },
     "execution_count": 14,
     "metadata": {},
     "output_type": "execute_result"
    }
   ],
   "source": [
    "#Q6 Answer\n",
    "array = np.array([[1., 1., 1., 1., 1., 1., 1., 1., 1., 1., 1., 1., 1., 1., 1., 1.,\n",
    "        1., 1., 1., 1., 1., 1., 1., 1., 1., 1., 1., 1., 1., 1., 1., 1.,\n",
    "        1., 1., 1., 1., 1., 1., 1., 1., 1., 1., 1., 1., 1., 1., 1., 1.,\n",
    "        1., 1.],\n",
    "       [1., 1., 1., 1., 1., 1., 1., 1., 1., 1., 1., 1., 1., 1., 1., 1.,\n",
    "        1., 1., 1., 1., 1., 1., 1., 1., 1., 1., 1., 1., 1., 1., 1., 1.,\n",
    "        1., 1., 1., 1., 1., 1., 1., 1., 1., 1., 1., 1., 1., 1., 1., 1.,\n",
    "        1., 1.],\n",
    "       [1., 1., 1., 1., 1., 1., 1., 1., 1., 1., 1., 1., 1., 1., 1., 1.,\n",
    "        1., 1., 1., 1., 1., 1., 1., 1., 1., 1., 1., 1., 1., 1., 1., 1.,\n",
    "        1., 1., 1., 1., 1., 1., 1., 1., 1., 1., 1., 1., 1., 1., 1., 1.,\n",
    "        1., 1.],\n",
    "       [1., 1., 1., 1., 1., 1., 1., 1., 1., 1., 1., 1., 1., 1., 1., 1.,\n",
    "        1., 1., 1., 1., 1., 1., 1., 1., 1., 1., 1., 1., 1., 1., 1., 1.,\n",
    "        1., 1., 1., 1., 1., 1., 1., 1., 1., 1., 1., 1., 1., 1., 1., 1.,\n",
    "        1., 1.]])\n",
    "\n",
    "array.shape"
   ]
  },
  {
   "cell_type": "code",
   "execution_count": 17,
   "id": "703bd792",
   "metadata": {},
   "outputs": [
    {
     "name": "stdout",
     "output_type": "stream",
     "text": [
      "[[ 1  2  3  4]\n",
      " [ 5  6  7  8]\n",
      " [ 9 10 11 12]\n",
      " [13 14 15 16]\n",
      " [17 18 19 20]\n",
      " [21 22 23 24]]\n"
     ]
    }
   ],
   "source": [
    "#Q7 Answer\n",
    "increase_array = np.array([[1, 1, 1, 1], [5, 5, 5, 5], [9, 9, 9, 9], [13, 13, 13, 13], [17, 17, 17, 17], [21, 21, 21, 21]])\n",
    "\n",
    "increase = [0,1,2,3]\n",
    "increase_array += increase\n",
    "print(increase_array)"
   ]
  },
  {
   "cell_type": "code",
   "execution_count": 30,
   "id": "14c24ed7",
   "metadata": {},
   "outputs": [
    {
     "name": "stdout",
     "output_type": "stream",
     "text": [
      "[[ 1  2  3  4  5]\n",
      " [ 6  7  8  9 10]\n",
      " [11 12 13 14 15]\n",
      " [16 17 18 19 20]]\n"
     ]
    }
   ],
   "source": [
    "#Q8 Answer\n",
    "\n",
    "a = np.arange(20)\n",
    "a+=1\n",
    "a = a.reshape(4, 5)\n",
    "print(a)"
   ]
  },
  {
   "cell_type": "code",
   "execution_count": 33,
   "id": "ec4c2723",
   "metadata": {},
   "outputs": [
    {
     "name": "stdout",
     "output_type": "stream",
     "text": [
      "[[1 2 3 4]\n",
      " [5 6 7 8]]\n"
     ]
    }
   ],
   "source": [
    "# Q9 Answer\n",
    "\n",
    "a = [[1, 2]]\n",
    "b = [[3, 4]]\n",
    "c = [[5, 6]]\n",
    "d = [[7, 8]]\n",
    "\n",
    "i = np.hstack((a, b))\n",
    "j = np.hstack((c, d))\n",
    "print(np.vstack((i, j)))"
   ]
  },
  {
   "cell_type": "code",
   "execution_count": 35,
   "id": "fe7a9fbb",
   "metadata": {},
   "outputs": [
    {
     "data": {
      "text/plain": [
       "6"
      ]
     },
     "execution_count": 35,
     "metadata": {},
     "output_type": "execute_result"
    }
   ],
   "source": [
    "# Q10 Answer\n",
    "\n",
    "dimension_array = np.arange(6400).reshape(4, 4, 5, 8, 1, 10)\n",
    "dimension_array.ndim"
   ]
  },
  {
   "cell_type": "code",
   "execution_count": null,
   "id": "0a0d1ae9",
   "metadata": {},
   "outputs": [],
   "source": []
  }
 ],
 "metadata": {
  "kernelspec": {
   "display_name": "Python 3",
   "language": "python",
   "name": "python3"
  },
  "language_info": {
   "codemirror_mode": {
    "name": "ipython",
    "version": 3
   },
   "file_extension": ".py",
   "mimetype": "text/x-python",
   "name": "python",
   "nbconvert_exporter": "python",
   "pygments_lexer": "ipython3",
   "version": "3.8.8"
  }
 },
 "nbformat": 4,
 "nbformat_minor": 5
}
